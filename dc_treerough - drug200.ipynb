{
 "cells": [
  {
   "cell_type": "markdown",
   "metadata": {},
   "source": [
    "Made by: *Vincent Kwan*"
   ]
  },
  {
   "cell_type": "code",
   "execution_count": 39,
   "metadata": {},
   "outputs": [],
   "source": [
    "#The first row is always the Headers\n",
    "#The last column is always the label\n",
    "\n",
    "training_data = []\n",
    "with open('drug200.csv', 'r') as f:\n",
    "    training_data = f.read().splitlines()\n",
    "training_data = [x.split(',') for x in training_data]\n"
   ]
  },
  {
   "cell_type": "code",
   "execution_count": 40,
   "metadata": {},
   "outputs": [],
   "source": [
    "intl = []\n",
    "for c in range(len(training_data[1])):\n",
    "    try:\n",
    "        i = float(training_data[1][c])\n",
    "        #print(c)\n",
    "        intl.append(c)\n",
    "    except Exception as E:\n",
    "        continue"
   ]
  },
  {
   "cell_type": "code",
   "execution_count": 41,
   "metadata": {},
   "outputs": [],
   "source": [
    "for i in intl:\n",
    "    for r in range(1,len(training_data[1:])):\n",
    "        training_data[r][i] = float(training_data[r][i])"
   ]
  },
  {
   "cell_type": "code",
   "execution_count": 42,
   "metadata": {},
   "outputs": [],
   "source": [
    "headers = training_data[0]"
   ]
  },
  {
   "cell_type": "code",
   "execution_count": 43,
   "metadata": {},
   "outputs": [],
   "source": [
    "testing_data = training_data[150:200]"
   ]
  },
  {
   "cell_type": "code",
   "execution_count": 44,
   "metadata": {},
   "outputs": [
    {
     "data": {
      "text/plain": [
       "[[22.0, 'M', 'LOW', 'HIGH', 8.151, 'drugC'],\n",
       " [49.0, 'M', 'HIGH', 'NORMAL', 8.7, 'drugA'],\n",
       " [68.0, 'M', 'HIGH', 'HIGH', 11.009, 'drugB'],\n",
       " [55.0, 'M', 'NORMAL', 'NORMAL', 7.261, 'drugX'],\n",
       " [72.0, 'F', 'LOW', 'NORMAL', 14.642, 'drugX'],\n",
       " [37.0, 'M', 'LOW', 'NORMAL', 16.724, 'drugY'],\n",
       " [49.0, 'M', 'LOW', 'HIGH', 10.537, 'drugC'],\n",
       " [31.0, 'M', 'HIGH', 'NORMAL', 11.227, 'drugA'],\n",
       " [53.0, 'M', 'LOW', 'HIGH', 22.963, 'drugY'],\n",
       " [59.0, 'F', 'LOW', 'HIGH', 10.444, 'drugC'],\n",
       " [34.0, 'F', 'LOW', 'NORMAL', 12.923, 'drugX'],\n",
       " [30.0, 'F', 'NORMAL', 'HIGH', 10.443, 'drugX'],\n",
       " [57.0, 'F', 'HIGH', 'NORMAL', 9.945, 'drugB'],\n",
       " [43.0, 'M', 'NORMAL', 'NORMAL', 12.859, 'drugX'],\n",
       " [21.0, 'F', 'HIGH', 'NORMAL', 28.632, 'drugY'],\n",
       " [16.0, 'M', 'HIGH', 'NORMAL', 19.007, 'drugY'],\n",
       " [38.0, 'M', 'LOW', 'HIGH', 18.295, 'drugY'],\n",
       " [58.0, 'F', 'LOW', 'HIGH', 26.645, 'drugY'],\n",
       " [57.0, 'F', 'NORMAL', 'HIGH', 14.216, 'drugX'],\n",
       " [51.0, 'F', 'LOW', 'NORMAL', 23.003, 'drugY'],\n",
       " [20.0, 'F', 'HIGH', 'HIGH', 11.262, 'drugA'],\n",
       " [28.0, 'F', 'NORMAL', 'HIGH', 12.879, 'drugX'],\n",
       " [45.0, 'M', 'LOW', 'NORMAL', 10.017, 'drugX'],\n",
       " [39.0, 'F', 'NORMAL', 'NORMAL', 17.225, 'drugY'],\n",
       " [41.0, 'F', 'LOW', 'NORMAL', 18.739, 'drugY'],\n",
       " [42.0, 'M', 'HIGH', 'NORMAL', 12.766, 'drugA'],\n",
       " [73.0, 'F', 'HIGH', 'HIGH', 18.348, 'drugY'],\n",
       " [48.0, 'M', 'HIGH', 'NORMAL', 10.446, 'drugA'],\n",
       " [25.0, 'M', 'NORMAL', 'HIGH', 19.011, 'drugY'],\n",
       " [39.0, 'M', 'NORMAL', 'HIGH', 15.969, 'drugY'],\n",
       " [67.0, 'F', 'NORMAL', 'HIGH', 15.891, 'drugY'],\n",
       " [22.0, 'F', 'HIGH', 'NORMAL', 22.818, 'drugY'],\n",
       " [59.0, 'F', 'NORMAL', 'HIGH', 13.884, 'drugX'],\n",
       " [20.0, 'F', 'LOW', 'NORMAL', 11.686, 'drugX'],\n",
       " [36.0, 'F', 'HIGH', 'NORMAL', 15.49, 'drugY'],\n",
       " [18.0, 'F', 'HIGH', 'HIGH', 37.188, 'drugY'],\n",
       " [57.0, 'F', 'NORMAL', 'NORMAL', 25.893, 'drugY'],\n",
       " [70.0, 'M', 'HIGH', 'HIGH', 9.849, 'drugB'],\n",
       " [47.0, 'M', 'HIGH', 'HIGH', 10.403, 'drugA'],\n",
       " [65.0, 'M', 'HIGH', 'NORMAL', 34.997, 'drugY'],\n",
       " [64.0, 'M', 'HIGH', 'NORMAL', 20.932, 'drugY'],\n",
       " [58.0, 'M', 'HIGH', 'HIGH', 18.991, 'drugY'],\n",
       " [23.0, 'M', 'HIGH', 'HIGH', 8.011, 'drugA'],\n",
       " [72.0, 'M', 'LOW', 'HIGH', 16.31, 'drugY'],\n",
       " [72.0, 'M', 'LOW', 'HIGH', 6.769, 'drugC'],\n",
       " [46.0, 'F', 'HIGH', 'HIGH', 34.686, 'drugY'],\n",
       " [56.0, 'F', 'LOW', 'HIGH', 11.567, 'drugC'],\n",
       " [16.0, 'M', 'LOW', 'HIGH', 12.006, 'drugC'],\n",
       " [52.0, 'M', 'NORMAL', 'HIGH', 9.894, 'drugX'],\n",
       " [23.0, 'M', 'NORMAL', 'NORMAL', 14.02, 'drugX']]"
      ]
     },
     "execution_count": 44,
     "metadata": {},
     "output_type": "execute_result"
    }
   ],
   "source": [
    "testing_data"
   ]
  },
  {
   "cell_type": "code",
   "execution_count": 45,
   "metadata": {},
   "outputs": [],
   "source": [
    "training_data = training_data[:149]"
   ]
  },
  {
   "cell_type": "code",
   "execution_count": 46,
   "metadata": {},
   "outputs": [],
   "source": [
    "def uniques(rows, col):\n",
    "    #return unique values for columns - skip the headers\n",
    "    return set(row[col] for row in rows[1:])"
   ]
  },
  {
   "cell_type": "code",
   "execution_count": 47,
   "metadata": {},
   "outputs": [],
   "source": [
    "def countlabels(rows):\n",
    "    #count the number of labels in a node\n",
    "    dict_label = dict()\n",
    "    for row in rows:\n",
    "        if row[-1] not in dict_label:\n",
    "            dict_label[row[-1]] = 0\n",
    "        dict_label[row[-1]] += 1\n",
    "    return dict_label"
   ]
  },
  {
   "cell_type": "code",
   "execution_count": 48,
   "metadata": {},
   "outputs": [
    {
     "data": {
      "text/plain": [
       "{'drugY': 69, 'drugC': 10, 'drugX': 40, 'drugA': 16, 'drugB': 13}"
      ]
     },
     "execution_count": 48,
     "metadata": {},
     "output_type": "execute_result"
    }
   ],
   "source": [
    "countlabels(training_data[1:])"
   ]
  },
  {
   "cell_type": "code",
   "execution_count": 49,
   "metadata": {},
   "outputs": [],
   "source": [
    "def gini_impurity(rows):\n",
    "    #calculate the gini impurity for a node\n",
    "    counts = countlabels(rows)\n",
    "    total = sum(counts.values())\n",
    "    impurity = 1\n",
    "    for label in counts:\n",
    "        prob = counts[label]/total\n",
    "        prob = prob ** 2\n",
    "        impurity -= prob\n",
    "    return impurity"
   ]
  },
  {
   "cell_type": "code",
   "execution_count": 50,
   "metadata": {},
   "outputs": [],
   "source": [
    "def weighted_impurity(lrow, rrow):\n",
    "    #calculate weighted impurity of child nodes\n",
    "    ltotal = len(lrow)\n",
    "    rtotal = len(rrow)\n",
    "    total = ltotal + rtotal\n",
    "    w_imp = ((ltotal/total) * gini_impurity(lrow)) + ((rtotal/total) * gini_impurity(rrow))\n",
    "    return w_imp"
   ]
  },
  {
   "cell_type": "code",
   "execution_count": 51,
   "metadata": {},
   "outputs": [
    {
     "data": {
      "text/plain": [
       "0.0"
      ]
     },
     "execution_count": 51,
     "metadata": {},
     "output_type": "execute_result"
    }
   ],
   "source": [
    "#testing if the function works, no mixing:\n",
    "test1 = [['Red', 'Color'], ['Yellow', 'Color']]\n",
    "gini_impurity(test1)"
   ]
  },
  {
   "cell_type": "code",
   "execution_count": 52,
   "metadata": {},
   "outputs": [
    {
     "data": {
      "text/plain": [
       "0.6666666666666665"
      ]
     },
     "execution_count": 52,
     "metadata": {},
     "output_type": "execute_result"
    }
   ],
   "source": [
    "#some mixing\n",
    "test2 = [['Ravioli', 'Food'], ['Paracetamol', 'Medicine'], ['Pug', 'Dog']]\n",
    "gini_impurity(test2)"
   ]
  },
  {
   "cell_type": "code",
   "execution_count": 53,
   "metadata": {},
   "outputs": [],
   "source": [
    "class Condition:\n",
    "    ''' A condition which is used to divide values into child nodes.'''\n",
    "    def __init__(self, col, val):\n",
    "        self.value = val\n",
    "        self.column = col\n",
    "    \n",
    "    def is_match(self, row):\n",
    "        test_val = row[self.column]\n",
    "\n",
    "        if isinstance(test_val, float) or isinstance(test_val, int):\n",
    "            #if data is of numeric type, then check whether bigger than or equal to\n",
    "            return test_val >= self.value\n",
    "        else:\n",
    "            #otherwise, if data is of character type, then check equality\n",
    "            return test_val == self.value\n",
    "\n",
    "    def __repr__(self):\n",
    "        if isinstance(self.value, float) or isinstance(self.value, int):\n",
    "            operator = ' >= '\n",
    "        else:\n",
    "            operator = ' == '\n",
    "        \n",
    "        return (str(headers[self.column]) + operator + str(self.value))"
   ]
  },
  {
   "cell_type": "code",
   "execution_count": 54,
   "metadata": {},
   "outputs": [
    {
     "data": {
      "text/plain": [
       "True"
      ]
     },
     "execution_count": 54,
     "metadata": {},
     "output_type": "execute_result"
    }
   ],
   "source": [
    "#testing the Condition class\n",
    "C = Condition(1, 'Biden')\n",
    "trow = ['President', 'Biden']\n",
    "C.is_match(trow)"
   ]
  },
  {
   "cell_type": "code",
   "execution_count": 55,
   "metadata": {},
   "outputs": [],
   "source": [
    "def partitioner(rows, condition):\n",
    "    #Partition the dataset based upon the condition\n",
    "    leftrows, rightrows = [], []\n",
    "    for row in rows:\n",
    "        if condition.is_match(row):\n",
    "            rightrows.append(row)\n",
    "        else:\n",
    "            leftrows.append(row)\n",
    "    return leftrows, rightrows"
   ]
  },
  {
   "cell_type": "code",
   "execution_count": 56,
   "metadata": {},
   "outputs": [
    {
     "data": {
      "text/plain": [
       "0.6859060402684564"
      ]
     },
     "execution_count": 56,
     "metadata": {},
     "output_type": "execute_result"
    }
   ],
   "source": [
    "#testing \n",
    "lr, rr = partitioner(training_data, Condition(0, 23))\n",
    "weighted_impurity(lr, rr)"
   ]
  },
  {
   "cell_type": "code",
   "execution_count": 57,
   "metadata": {},
   "outputs": [
    {
     "data": {
      "text/plain": [
       "[['Age', 'Sex', 'BP', 'Cholesterol', 'Na_to_K', 'Drug'],\n",
       " [22.0, 'F', 'NORMAL', 'HIGH', 8.607, 'drugX'],\n",
       " [16.0, 'F', 'HIGH', 'NORMAL', 15.516, 'drugY'],\n",
       " [18.0, 'F', 'NORMAL', 'NORMAL', 8.75, 'drugX'],\n",
       " [15.0, 'M', 'NORMAL', 'HIGH', 9.084, 'drugX'],\n",
       " [17.0, 'M', 'NORMAL', 'NORMAL', 10.832, 'drugX'],\n",
       " [18.0, 'F', 'HIGH', 'NORMAL', 24.276, 'drugY'],\n",
       " [19.0, 'F', 'HIGH', 'HIGH', 13.313, 'drugA'],\n",
       " [20.0, 'M', 'HIGH', 'NORMAL', 35.639, 'drugY'],\n",
       " [15.0, 'F', 'HIGH', 'NORMAL', 16.725, 'drugY'],\n",
       " [22.0, 'M', 'HIGH', 'NORMAL', 28.294, 'drugY'],\n",
       " [22.0, 'M', 'NORMAL', 'HIGH', 11.953, 'drugX'],\n",
       " [20.0, 'F', 'NORMAL', 'NORMAL', 9.281, 'drugX'],\n",
       " [15.0, 'M', 'HIGH', 'NORMAL', 17.206, 'drugY'],\n",
       " [19.0, 'F', 'HIGH', 'NORMAL', 25.969, 'drugY']]"
      ]
     },
     "execution_count": 57,
     "metadata": {},
     "output_type": "execute_result"
    }
   ],
   "source": [
    "lr"
   ]
  },
  {
   "cell_type": "code",
   "execution_count": 58,
   "metadata": {},
   "outputs": [],
   "source": [
    "def splitter(rows):\n",
    "    '''Finds the best condition to split the dataset on.'''\n",
    "    best_con = None\n",
    "    bg = 0\n",
    "    curr_gini = gini_impurity(rows)\n",
    "    \n",
    "    for c in range(len(headers) - 1): #ignore the last column since it contains label\n",
    "        values = uniques(rows, c)\n",
    "\n",
    "        for v in values:\n",
    "            condition = Condition(c, v)\n",
    "            lrows, rrows = partitioner(rows, condition)\n",
    "\n",
    "            if len(lrows) == 0 or len(rrows) == 0:\n",
    "                continue\n",
    "            \n",
    "            w_imp = weighted_impurity(lrows, rrows)\n",
    "\n",
    "            info_gain = curr_gini - w_imp\n",
    "\n",
    "            if info_gain > bg:\n",
    "                best_con = condition\n",
    "                bg = info_gain\n",
    "\n",
    "    return bg, best_con"
   ]
  },
  {
   "cell_type": "code",
   "execution_count": 59,
   "metadata": {},
   "outputs": [
    {
     "name": "stdout",
     "output_type": "stream",
     "text": [
      "0.33123170127471724 Na_to_K >= 15.015\n"
     ]
    }
   ],
   "source": [
    "#testing info_gain and best condition\n",
    "bi, bc = splitter(training_data)\n",
    "print(bi, bc)"
   ]
  },
  {
   "cell_type": "code",
   "execution_count": 60,
   "metadata": {},
   "outputs": [],
   "source": [
    "class Node():\n",
    "    def __init__(self, rows):\n",
    "        self.labels = countlabels(rows)\n",
    "        self.dprob = dict()\n",
    "\n",
    "        self.total = sum(self.labels.values())\n",
    "        for label in self.labels.keys():\n",
    "            #print(label)\n",
    "            self.dprob[label] = self.labels[label]/self.total"
   ]
  },
  {
   "cell_type": "code",
   "execution_count": 61,
   "metadata": {},
   "outputs": [],
   "source": [
    "class LeafNode(Node):\n",
    "    def __init__(self, rows):\n",
    "        super(LeafNode, self).__init__(rows)\n",
    "    \n",
    "    def state(self):\n",
    "        return 'I am a leaf node.'"
   ]
  },
  {
   "cell_type": "code",
   "execution_count": 62,
   "metadata": {},
   "outputs": [],
   "source": [
    "class InternalNode(Node):\n",
    "    def __init__(self, lrows, rrows, cond):\n",
    "        self.state = 'I am a branch'\n",
    "        self.condition = cond\n",
    "        self.lbranch = lrows\n",
    "        self.rbranch = rrows\n",
    "    \n",
    "    def state(self):\n",
    "        return 'I am an internal node.'"
   ]
  },
  {
   "cell_type": "code",
   "execution_count": 63,
   "metadata": {},
   "outputs": [],
   "source": [
    "def treebuilder(rows):\n",
    "    gain, condition = splitter(rows)\n",
    "\n",
    "    if gain == 0:\n",
    "        return LeafNode(rows)\n",
    "\n",
    "    lrows, rrows = partitioner(rows, condition)\n",
    "\n",
    "    lbranch = treebuilder(lrows)\n",
    "    rbranch = treebuilder(rrows)\n",
    "\n",
    "    return InternalNode(lbranch, rbranch, condition)"
   ]
  },
  {
   "cell_type": "code",
   "execution_count": 64,
   "metadata": {},
   "outputs": [],
   "source": [
    "tree = treebuilder(training_data[1:])"
   ]
  },
  {
   "cell_type": "code",
   "execution_count": 65,
   "metadata": {},
   "outputs": [],
   "source": [
    "def print_tree(node, spacing=\"\"):\n",
    "\n",
    "    if isinstance(node, LeafNode):\n",
    "        print (spacing + \"Predict\", node.dprob)\n",
    "        return\n",
    "\n",
    "\n",
    "    print (spacing + str(node.condition))\n",
    "\n",
    "\n",
    "    print (spacing + '--> True:')\n",
    "    print_tree(node.rbranch, spacing + \"  \")\n",
    "\n",
    "\n",
    "    print (spacing + '--> False:')\n",
    "    print_tree(node.lbranch, spacing + \"  \")"
   ]
  },
  {
   "cell_type": "code",
   "execution_count": 66,
   "metadata": {},
   "outputs": [],
   "source": [
    "def print_node(row, treenode):\n",
    "    \n",
    "    if isinstance(treenode, LeafNode):\n",
    "        dprob = treenode.dprob\n",
    "        total = sum(dprob.values())\n",
    "        probs = {}\n",
    "        for lbl in dprob.keys():\n",
    "            probs[lbl] = dprob[lbl]/total\n",
    "        return probs\n",
    "\n",
    "    if treenode.condition.is_match(row):\n",
    "        return print_node(row, treenode.rbranch)\n",
    "    else:\n",
    "        return print_node(row, treenode.lbranch)"
   ]
  },
  {
   "cell_type": "code",
   "execution_count": 67,
   "metadata": {},
   "outputs": [
    {
     "name": "stdout",
     "output_type": "stream",
     "text": [
      "Na_to_K >= 15.015\n",
      "--> True:\n",
      "  Predict {'drugY': 1.0}\n",
      "--> False:\n",
      "  BP == HIGH\n",
      "  --> True:\n",
      "    Age >= 51.0\n",
      "    --> True:\n",
      "      Predict {'drugB': 1.0}\n",
      "    --> False:\n",
      "      Predict {'drugA': 1.0}\n",
      "  --> False:\n",
      "    BP == NORMAL\n",
      "    --> True:\n",
      "      Predict {'drugX': 1.0}\n",
      "    --> False:\n",
      "      Cholesterol == HIGH\n",
      "      --> True:\n",
      "        Predict {'drugC': 1.0}\n",
      "      --> False:\n",
      "        Predict {'drugX': 1.0}\n"
     ]
    }
   ],
   "source": [
    "print_tree(tree)"
   ]
  },
  {
   "cell_type": "code",
   "execution_count": 68,
   "metadata": {},
   "outputs": [
    {
     "name": "stdout",
     "output_type": "stream",
     "text": [
      "Actual: drugC. Predicted: {'drugC': 1.0}\n",
      "Actual: drugA. Predicted: {'drugA': 1.0}\n",
      "Actual: drugB. Predicted: {'drugB': 1.0}\n",
      "Actual: drugX. Predicted: {'drugX': 1.0}\n",
      "Actual: drugX. Predicted: {'drugX': 1.0}\n",
      "Actual: drugY. Predicted: {'drugY': 1.0}\n",
      "Actual: drugC. Predicted: {'drugC': 1.0}\n",
      "Actual: drugA. Predicted: {'drugA': 1.0}\n",
      "Actual: drugY. Predicted: {'drugY': 1.0}\n",
      "Actual: drugC. Predicted: {'drugC': 1.0}\n",
      "Actual: drugX. Predicted: {'drugX': 1.0}\n",
      "Actual: drugX. Predicted: {'drugX': 1.0}\n",
      "Actual: drugB. Predicted: {'drugB': 1.0}\n",
      "Actual: drugX. Predicted: {'drugX': 1.0}\n",
      "Actual: drugY. Predicted: {'drugY': 1.0}\n",
      "Actual: drugY. Predicted: {'drugY': 1.0}\n",
      "Actual: drugY. Predicted: {'drugY': 1.0}\n",
      "Actual: drugY. Predicted: {'drugY': 1.0}\n",
      "Actual: drugX. Predicted: {'drugX': 1.0}\n",
      "Actual: drugY. Predicted: {'drugY': 1.0}\n",
      "Actual: drugA. Predicted: {'drugA': 1.0}\n",
      "Actual: drugX. Predicted: {'drugX': 1.0}\n",
      "Actual: drugX. Predicted: {'drugX': 1.0}\n",
      "Actual: drugY. Predicted: {'drugY': 1.0}\n",
      "Actual: drugY. Predicted: {'drugY': 1.0}\n",
      "Actual: drugA. Predicted: {'drugA': 1.0}\n",
      "Actual: drugY. Predicted: {'drugY': 1.0}\n",
      "Actual: drugA. Predicted: {'drugA': 1.0}\n",
      "Actual: drugY. Predicted: {'drugY': 1.0}\n",
      "Actual: drugY. Predicted: {'drugY': 1.0}\n",
      "Actual: drugY. Predicted: {'drugY': 1.0}\n",
      "Actual: drugY. Predicted: {'drugY': 1.0}\n",
      "Actual: drugX. Predicted: {'drugX': 1.0}\n",
      "Actual: drugX. Predicted: {'drugX': 1.0}\n",
      "Actual: drugY. Predicted: {'drugY': 1.0}\n",
      "Actual: drugY. Predicted: {'drugY': 1.0}\n",
      "Actual: drugY. Predicted: {'drugY': 1.0}\n",
      "Actual: drugB. Predicted: {'drugB': 1.0}\n",
      "Actual: drugA. Predicted: {'drugA': 1.0}\n",
      "Actual: drugY. Predicted: {'drugY': 1.0}\n",
      "Actual: drugY. Predicted: {'drugY': 1.0}\n",
      "Actual: drugY. Predicted: {'drugY': 1.0}\n",
      "Actual: drugA. Predicted: {'drugA': 1.0}\n",
      "Actual: drugY. Predicted: {'drugY': 1.0}\n",
      "Actual: drugC. Predicted: {'drugC': 1.0}\n",
      "Actual: drugY. Predicted: {'drugY': 1.0}\n",
      "Actual: drugC. Predicted: {'drugC': 1.0}\n",
      "Actual: drugC. Predicted: {'drugC': 1.0}\n",
      "Actual: drugX. Predicted: {'drugX': 1.0}\n",
      "Actual: drugX. Predicted: {'drugX': 1.0}\n"
     ]
    }
   ],
   "source": [
    "for row in testing_data:\n",
    "    print(\"Actual: {0}. Predicted: {1}\".format(row[-1], print_node(row, tree)))"
   ]
  }
 ],
 "metadata": {
  "interpreter": {
   "hash": "a00b87f3dafb8c5b0afdf77add0e2432ad578e1240a81446720c0c7d6c46e214"
  },
  "kernelspec": {
   "display_name": "Python 3.9.8 64-bit (windows store)",
   "name": "python3"
  },
  "language_info": {
   "codemirror_mode": {
    "name": "ipython",
    "version": 3
   },
   "file_extension": ".py",
   "mimetype": "text/x-python",
   "name": "python",
   "nbconvert_exporter": "python",
   "pygments_lexer": "ipython3",
   "version": "3.9.9"
  },
  "orig_nbformat": 4
 },
 "nbformat": 4,
 "nbformat_minor": 2
}
