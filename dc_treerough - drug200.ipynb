{
 "cells": [
  {
   "cell_type": "markdown",
   "source": [
    "Made by: *Vincent Kwan*"
   ],
   "metadata": {}
  },
  {
   "cell_type": "code",
   "execution_count": 39,
   "source": [
    "#The first row is always the Headers\r\n",
    "#The last column is always the label\r\n",
    "\r\n",
    "training_data = []\r\n",
    "with open('drug200.csv', 'r') as f:\r\n",
    "    training_data = f.read().splitlines()\r\n",
    "training_data = [x.split(',') for x in training_data]\r\n"
   ],
   "outputs": [],
   "metadata": {}
  },
  {
   "cell_type": "code",
   "execution_count": 40,
   "source": [
    "intl = []\r\n",
    "for c in range(len(training_data[1])):\r\n",
    "    try:\r\n",
    "        i = float(training_data[1][c])\r\n",
    "        #print(c)\r\n",
    "        intl.append(c)\r\n",
    "    except Exception as E:\r\n",
    "        continue"
   ],
   "outputs": [],
   "metadata": {}
  },
  {
   "cell_type": "code",
   "execution_count": 41,
   "source": [
    "for i in intl:\r\n",
    "    for r in range(1,len(training_data[1:])):\r\n",
    "        training_data[r][i] = float(training_data[r][i])"
   ],
   "outputs": [],
   "metadata": {}
  },
  {
   "cell_type": "code",
   "execution_count": 42,
   "source": [
    "headers = training_data[0]"
   ],
   "outputs": [],
   "metadata": {}
  },
  {
   "cell_type": "code",
   "execution_count": 43,
   "source": [
    "testing_data = training_data[150:200]"
   ],
   "outputs": [],
   "metadata": {}
  },
  {
   "cell_type": "code",
   "execution_count": 44,
   "source": [
    "testing_data"
   ],
   "outputs": [
    {
     "output_type": "execute_result",
     "data": {
      "text/plain": [
       "[[22.0, 'M', 'LOW', 'HIGH', 8.151, 'drugC'],\n",
       " [49.0, 'M', 'HIGH', 'NORMAL', 8.7, 'drugA'],\n",
       " [68.0, 'M', 'HIGH', 'HIGH', 11.009, 'drugB'],\n",
       " [55.0, 'M', 'NORMAL', 'NORMAL', 7.261, 'drugX'],\n",
       " [72.0, 'F', 'LOW', 'NORMAL', 14.642, 'drugX'],\n",
       " [37.0, 'M', 'LOW', 'NORMAL', 16.724, 'drugY'],\n",
       " [49.0, 'M', 'LOW', 'HIGH', 10.537, 'drugC'],\n",
       " [31.0, 'M', 'HIGH', 'NORMAL', 11.227, 'drugA'],\n",
       " [53.0, 'M', 'LOW', 'HIGH', 22.963, 'drugY'],\n",
       " [59.0, 'F', 'LOW', 'HIGH', 10.444, 'drugC'],\n",
       " [34.0, 'F', 'LOW', 'NORMAL', 12.923, 'drugX'],\n",
       " [30.0, 'F', 'NORMAL', 'HIGH', 10.443, 'drugX'],\n",
       " [57.0, 'F', 'HIGH', 'NORMAL', 9.945, 'drugB'],\n",
       " [43.0, 'M', 'NORMAL', 'NORMAL', 12.859, 'drugX'],\n",
       " [21.0, 'F', 'HIGH', 'NORMAL', 28.632, 'drugY'],\n",
       " [16.0, 'M', 'HIGH', 'NORMAL', 19.007, 'drugY'],\n",
       " [38.0, 'M', 'LOW', 'HIGH', 18.295, 'drugY'],\n",
       " [58.0, 'F', 'LOW', 'HIGH', 26.645, 'drugY'],\n",
       " [57.0, 'F', 'NORMAL', 'HIGH', 14.216, 'drugX'],\n",
       " [51.0, 'F', 'LOW', 'NORMAL', 23.003, 'drugY'],\n",
       " [20.0, 'F', 'HIGH', 'HIGH', 11.262, 'drugA'],\n",
       " [28.0, 'F', 'NORMAL', 'HIGH', 12.879, 'drugX'],\n",
       " [45.0, 'M', 'LOW', 'NORMAL', 10.017, 'drugX'],\n",
       " [39.0, 'F', 'NORMAL', 'NORMAL', 17.225, 'drugY'],\n",
       " [41.0, 'F', 'LOW', 'NORMAL', 18.739, 'drugY'],\n",
       " [42.0, 'M', 'HIGH', 'NORMAL', 12.766, 'drugA'],\n",
       " [73.0, 'F', 'HIGH', 'HIGH', 18.348, 'drugY'],\n",
       " [48.0, 'M', 'HIGH', 'NORMAL', 10.446, 'drugA'],\n",
       " [25.0, 'M', 'NORMAL', 'HIGH', 19.011, 'drugY'],\n",
       " [39.0, 'M', 'NORMAL', 'HIGH', 15.969, 'drugY'],\n",
       " [67.0, 'F', 'NORMAL', 'HIGH', 15.891, 'drugY'],\n",
       " [22.0, 'F', 'HIGH', 'NORMAL', 22.818, 'drugY'],\n",
       " [59.0, 'F', 'NORMAL', 'HIGH', 13.884, 'drugX'],\n",
       " [20.0, 'F', 'LOW', 'NORMAL', 11.686, 'drugX'],\n",
       " [36.0, 'F', 'HIGH', 'NORMAL', 15.49, 'drugY'],\n",
       " [18.0, 'F', 'HIGH', 'HIGH', 37.188, 'drugY'],\n",
       " [57.0, 'F', 'NORMAL', 'NORMAL', 25.893, 'drugY'],\n",
       " [70.0, 'M', 'HIGH', 'HIGH', 9.849, 'drugB'],\n",
       " [47.0, 'M', 'HIGH', 'HIGH', 10.403, 'drugA'],\n",
       " [65.0, 'M', 'HIGH', 'NORMAL', 34.997, 'drugY'],\n",
       " [64.0, 'M', 'HIGH', 'NORMAL', 20.932, 'drugY'],\n",
       " [58.0, 'M', 'HIGH', 'HIGH', 18.991, 'drugY'],\n",
       " [23.0, 'M', 'HIGH', 'HIGH', 8.011, 'drugA'],\n",
       " [72.0, 'M', 'LOW', 'HIGH', 16.31, 'drugY'],\n",
       " [72.0, 'M', 'LOW', 'HIGH', 6.769, 'drugC'],\n",
       " [46.0, 'F', 'HIGH', 'HIGH', 34.686, 'drugY'],\n",
       " [56.0, 'F', 'LOW', 'HIGH', 11.567, 'drugC'],\n",
       " [16.0, 'M', 'LOW', 'HIGH', 12.006, 'drugC'],\n",
       " [52.0, 'M', 'NORMAL', 'HIGH', 9.894, 'drugX'],\n",
       " [23.0, 'M', 'NORMAL', 'NORMAL', 14.02, 'drugX']]"
      ]
     },
     "metadata": {},
     "execution_count": 44
    }
   ],
   "metadata": {}
  },
  {
   "cell_type": "code",
   "execution_count": 45,
   "source": [
    "training_data = training_data[:149]"
   ],
   "outputs": [],
   "metadata": {}
  },
  {
   "cell_type": "code",
   "execution_count": 46,
   "source": [
    "def uniques(rows, col):\r\n",
    "    #return unique values for columns - skip the headers\r\n",
    "    return set(row[col] for row in rows[1:])"
   ],
   "outputs": [],
   "metadata": {}
  },
  {
   "cell_type": "code",
   "execution_count": 47,
   "source": [
    "def countlabels(rows):\r\n",
    "    #count the number of labels in a node\r\n",
    "    dict_label = dict()\r\n",
    "    for row in rows:\r\n",
    "        if row[-1] not in dict_label:\r\n",
    "            dict_label[row[-1]] = 0\r\n",
    "        dict_label[row[-1]] += 1\r\n",
    "    return dict_label"
   ],
   "outputs": [],
   "metadata": {}
  },
  {
   "cell_type": "code",
   "execution_count": 48,
   "source": [
    "countlabels(training_data[1:])"
   ],
   "outputs": [
    {
     "output_type": "execute_result",
     "data": {
      "text/plain": [
       "{'drugY': 69, 'drugC': 10, 'drugX': 40, 'drugA': 16, 'drugB': 13}"
      ]
     },
     "metadata": {},
     "execution_count": 48
    }
   ],
   "metadata": {}
  },
  {
   "cell_type": "code",
   "execution_count": 49,
   "source": [
    "def gini_impurity(rows):\r\n",
    "    #calculate the gini impurity for a node\r\n",
    "    counts = countlabels(rows)\r\n",
    "    total = sum(counts.values())\r\n",
    "    impurity = 1\r\n",
    "    for label in counts:\r\n",
    "        prob = counts[label]/total\r\n",
    "        prob = prob ** 2\r\n",
    "        impurity -= prob\r\n",
    "    return impurity"
   ],
   "outputs": [],
   "metadata": {}
  },
  {
   "cell_type": "code",
   "execution_count": 50,
   "source": [
    "def weighted_impurity(lrow, rrow):\r\n",
    "    #calculate weighted impurity of child nodes\r\n",
    "    ltotal = len(lrow)\r\n",
    "    rtotal = len(rrow)\r\n",
    "    total = ltotal + rtotal\r\n",
    "    w_imp = ((ltotal/total) * gini_impurity(lrow)) + ((rtotal/total) * gini_impurity(rrow))\r\n",
    "    return w_imp"
   ],
   "outputs": [],
   "metadata": {}
  },
  {
   "cell_type": "code",
   "execution_count": 51,
   "source": [
    "#testing if the function works, no mixing:\r\n",
    "test1 = [['Red', 'Color'], ['Yellow', 'Color']]\r\n",
    "gini_impurity(test1)"
   ],
   "outputs": [
    {
     "output_type": "execute_result",
     "data": {
      "text/plain": [
       "0.0"
      ]
     },
     "metadata": {},
     "execution_count": 51
    }
   ],
   "metadata": {}
  },
  {
   "cell_type": "code",
   "execution_count": 52,
   "source": [
    "#some mixing\r\n",
    "test2 = [['Ravioli', 'Food'], ['Paracetamol', 'Medicine'], ['Pug', 'Dog']]\r\n",
    "gini_impurity(test2)"
   ],
   "outputs": [
    {
     "output_type": "execute_result",
     "data": {
      "text/plain": [
       "0.6666666666666665"
      ]
     },
     "metadata": {},
     "execution_count": 52
    }
   ],
   "metadata": {}
  },
  {
   "cell_type": "code",
   "execution_count": 53,
   "source": [
    "class Condition:\r\n",
    "    ''' A condition which is used to divide values into child nodes.'''\r\n",
    "    def __init__(self, col, val):\r\n",
    "        self.value = val\r\n",
    "        self.column = col\r\n",
    "    \r\n",
    "    def is_match(self, row):\r\n",
    "        test_val = row[self.column]\r\n",
    "\r\n",
    "        if isinstance(test_val, float) or isinstance(test_val, int):\r\n",
    "            #if data is of numeric type, then check whether bigger than or equal to\r\n",
    "            return test_val >= self.value\r\n",
    "        else:\r\n",
    "            #otherwise, if data is of character type, then check equality\r\n",
    "            return test_val == self.value\r\n",
    "\r\n",
    "    def __repr__(self):\r\n",
    "        if isinstance(self.value, float) or isinstance(self.value, int):\r\n",
    "            operator = ' >= '\r\n",
    "        else:\r\n",
    "            operator = ' == '\r\n",
    "        \r\n",
    "        return (str(headers[self.column]) + operator + str(self.value))"
   ],
   "outputs": [],
   "metadata": {}
  },
  {
   "cell_type": "code",
   "execution_count": 54,
   "source": [
    "#testing the Condition class\r\n",
    "C = Condition(1, 'Biden')\r\n",
    "trow = ['President', 'Biden']\r\n",
    "C.is_match(trow)"
   ],
   "outputs": [
    {
     "output_type": "execute_result",
     "data": {
      "text/plain": [
       "True"
      ]
     },
     "metadata": {},
     "execution_count": 54
    }
   ],
   "metadata": {}
  },
  {
   "cell_type": "code",
   "execution_count": 55,
   "source": [
    "def partitioner(rows, condition):\r\n",
    "    #Partition the dataset based upon the condition\r\n",
    "    #just like how the british divided India and Pakistan\r\n",
    "    leftrows, rightrows = [], []\r\n",
    "    for row in rows:\r\n",
    "        if condition.is_match(row):\r\n",
    "            rightrows.append(row)\r\n",
    "        else:\r\n",
    "            leftrows.append(row)\r\n",
    "    return leftrows, rightrows"
   ],
   "outputs": [],
   "metadata": {}
  },
  {
   "cell_type": "code",
   "execution_count": 56,
   "source": [
    "#testing \r\n",
    "lr, rr = partitioner(training_data, Condition(0, 23))\r\n",
    "weighted_impurity(lr, rr)"
   ],
   "outputs": [
    {
     "output_type": "execute_result",
     "data": {
      "text/plain": [
       "0.6859060402684564"
      ]
     },
     "metadata": {},
     "execution_count": 56
    }
   ],
   "metadata": {}
  },
  {
   "cell_type": "code",
   "execution_count": 57,
   "source": [
    "lr"
   ],
   "outputs": [
    {
     "output_type": "execute_result",
     "data": {
      "text/plain": [
       "[['Age', 'Sex', 'BP', 'Cholesterol', 'Na_to_K', 'Drug'],\n",
       " [22.0, 'F', 'NORMAL', 'HIGH', 8.607, 'drugX'],\n",
       " [16.0, 'F', 'HIGH', 'NORMAL', 15.516, 'drugY'],\n",
       " [18.0, 'F', 'NORMAL', 'NORMAL', 8.75, 'drugX'],\n",
       " [15.0, 'M', 'NORMAL', 'HIGH', 9.084, 'drugX'],\n",
       " [17.0, 'M', 'NORMAL', 'NORMAL', 10.832, 'drugX'],\n",
       " [18.0, 'F', 'HIGH', 'NORMAL', 24.276, 'drugY'],\n",
       " [19.0, 'F', 'HIGH', 'HIGH', 13.313, 'drugA'],\n",
       " [20.0, 'M', 'HIGH', 'NORMAL', 35.639, 'drugY'],\n",
       " [15.0, 'F', 'HIGH', 'NORMAL', 16.725, 'drugY'],\n",
       " [22.0, 'M', 'HIGH', 'NORMAL', 28.294, 'drugY'],\n",
       " [22.0, 'M', 'NORMAL', 'HIGH', 11.953, 'drugX'],\n",
       " [20.0, 'F', 'NORMAL', 'NORMAL', 9.281, 'drugX'],\n",
       " [15.0, 'M', 'HIGH', 'NORMAL', 17.206, 'drugY'],\n",
       " [19.0, 'F', 'HIGH', 'NORMAL', 25.969, 'drugY']]"
      ]
     },
     "metadata": {},
     "execution_count": 57
    }
   ],
   "metadata": {}
  },
  {
   "cell_type": "code",
   "execution_count": 58,
   "source": [
    "def splitter(rows):\r\n",
    "    '''Finds the best condition to split the dataset on.'''\r\n",
    "    best_con = None\r\n",
    "    bg = 0\r\n",
    "    curr_gini = gini_impurity(rows)\r\n",
    "    \r\n",
    "    for c in range(len(headers) - 1): #ignore the last column since it contains label\r\n",
    "        values = uniques(rows, c)\r\n",
    "\r\n",
    "        for v in values:\r\n",
    "            condition = Condition(c, v)\r\n",
    "            lrows, rrows = partitioner(rows, condition)\r\n",
    "\r\n",
    "            if len(lrows) == 0 or len(rrows) == 0:\r\n",
    "                continue\r\n",
    "            \r\n",
    "            w_imp = weighted_impurity(lrows, rrows)\r\n",
    "\r\n",
    "            info_gain = curr_gini - w_imp\r\n",
    "\r\n",
    "            if info_gain > bg:\r\n",
    "                best_con = condition\r\n",
    "                bg = info_gain\r\n",
    "\r\n",
    "    return bg, best_con"
   ],
   "outputs": [],
   "metadata": {}
  },
  {
   "cell_type": "code",
   "execution_count": 59,
   "source": [
    "#testing info_gain and best condition\r\n",
    "bi, bc = splitter(training_data)\r\n",
    "print(bi, bc)"
   ],
   "outputs": [
    {
     "output_type": "stream",
     "name": "stdout",
     "text": [
      "0.33123170127471724 Na_to_K >= 15.015\n"
     ]
    }
   ],
   "metadata": {}
  },
  {
   "cell_type": "code",
   "execution_count": 60,
   "source": [
    "class Node():\r\n",
    "    def __init__(self, rows):\r\n",
    "        self.labels = countlabels(rows)\r\n",
    "        self.dprob = dict()\r\n",
    "\r\n",
    "        self.total = sum(self.labels.values())\r\n",
    "        for label in self.labels.keys():\r\n",
    "            #print(label)\r\n",
    "            self.dprob[label] = self.labels[label]/self.total"
   ],
   "outputs": [],
   "metadata": {}
  },
  {
   "cell_type": "code",
   "execution_count": 61,
   "source": [
    "class LeafNode(Node):\r\n",
    "    def __init__(self, rows):\r\n",
    "        super(LeafNode, self).__init__(rows)\r\n",
    "    \r\n",
    "    def state(self):\r\n",
    "        return 'I am a leaf node.'"
   ],
   "outputs": [],
   "metadata": {}
  },
  {
   "cell_type": "code",
   "execution_count": 62,
   "source": [
    "class InternalNode(Node):\r\n",
    "    def __init__(self, lrows, rrows, cond):\r\n",
    "        self.state = 'I am a branch'\r\n",
    "        self.condition = cond\r\n",
    "        self.lbranch = lrows\r\n",
    "        self.rbranch = rrows\r\n",
    "    \r\n",
    "    def state(self):\r\n",
    "        return 'I am an internal node.'"
   ],
   "outputs": [],
   "metadata": {}
  },
  {
   "cell_type": "code",
   "execution_count": 63,
   "source": [
    "def treebuilder(rows):\r\n",
    "    gain, condition = splitter(rows)\r\n",
    "\r\n",
    "    if gain == 0:\r\n",
    "        return LeafNode(rows)\r\n",
    "\r\n",
    "    lrows, rrows = partitioner(rows, condition)\r\n",
    "\r\n",
    "    lbranch = treebuilder(lrows)\r\n",
    "    rbranch = treebuilder(rrows)\r\n",
    "\r\n",
    "    return InternalNode(lbranch, rbranch, condition)"
   ],
   "outputs": [],
   "metadata": {}
  },
  {
   "cell_type": "code",
   "execution_count": 64,
   "source": [
    "tree = treebuilder(training_data[1:])"
   ],
   "outputs": [],
   "metadata": {}
  },
  {
   "cell_type": "code",
   "execution_count": 65,
   "source": [
    "def print_tree(node, spacing=\"\"):\r\n",
    "\r\n",
    "    if isinstance(node, LeafNode):\r\n",
    "        print (spacing + \"Predict\", node.dprob)\r\n",
    "        return\r\n",
    "\r\n",
    "\r\n",
    "    print (spacing + str(node.condition))\r\n",
    "\r\n",
    "\r\n",
    "    print (spacing + '--> True:')\r\n",
    "    print_tree(node.rbranch, spacing + \"  \")\r\n",
    "\r\n",
    "\r\n",
    "    print (spacing + '--> False:')\r\n",
    "    print_tree(node.lbranch, spacing + \"  \")"
   ],
   "outputs": [],
   "metadata": {}
  },
  {
   "cell_type": "code",
   "execution_count": 66,
   "source": [
    "def print_node(row, treenode):\r\n",
    "    \r\n",
    "    if isinstance(treenode, LeafNode):\r\n",
    "        dprob = treenode.dprob\r\n",
    "        total = sum(dprob.values())\r\n",
    "        probs = {}\r\n",
    "        for lbl in dprob.keys():\r\n",
    "            probs[lbl] = dprob[lbl]/total\r\n",
    "        return probs\r\n",
    "\r\n",
    "    if treenode.condition.is_match(row):\r\n",
    "        return print_node(row, treenode.rbranch)\r\n",
    "    else:\r\n",
    "        return print_node(row, treenode.lbranch)"
   ],
   "outputs": [],
   "metadata": {}
  },
  {
   "cell_type": "code",
   "execution_count": 67,
   "source": [
    "print_tree(tree)"
   ],
   "outputs": [
    {
     "output_type": "stream",
     "name": "stdout",
     "text": [
      "Na_to_K >= 15.015\n",
      "--> True:\n",
      "  Predict {'drugY': 1.0}\n",
      "--> False:\n",
      "  BP == HIGH\n",
      "  --> True:\n",
      "    Age >= 51.0\n",
      "    --> True:\n",
      "      Predict {'drugB': 1.0}\n",
      "    --> False:\n",
      "      Predict {'drugA': 1.0}\n",
      "  --> False:\n",
      "    BP == NORMAL\n",
      "    --> True:\n",
      "      Predict {'drugX': 1.0}\n",
      "    --> False:\n",
      "      Cholesterol == HIGH\n",
      "      --> True:\n",
      "        Predict {'drugC': 1.0}\n",
      "      --> False:\n",
      "        Predict {'drugX': 1.0}\n"
     ]
    }
   ],
   "metadata": {}
  },
  {
   "cell_type": "code",
   "execution_count": 68,
   "source": [
    "for row in testing_data:\r\n",
    "    print(\"Actual: {0}. Predicted: {1}\".format(row[-1], print_node(row, tree)))"
   ],
   "outputs": [
    {
     "output_type": "stream",
     "name": "stdout",
     "text": [
      "Actual: drugC. Predicted: {'drugC': 1.0}\n",
      "Actual: drugA. Predicted: {'drugA': 1.0}\n",
      "Actual: drugB. Predicted: {'drugB': 1.0}\n",
      "Actual: drugX. Predicted: {'drugX': 1.0}\n",
      "Actual: drugX. Predicted: {'drugX': 1.0}\n",
      "Actual: drugY. Predicted: {'drugY': 1.0}\n",
      "Actual: drugC. Predicted: {'drugC': 1.0}\n",
      "Actual: drugA. Predicted: {'drugA': 1.0}\n",
      "Actual: drugY. Predicted: {'drugY': 1.0}\n",
      "Actual: drugC. Predicted: {'drugC': 1.0}\n",
      "Actual: drugX. Predicted: {'drugX': 1.0}\n",
      "Actual: drugX. Predicted: {'drugX': 1.0}\n",
      "Actual: drugB. Predicted: {'drugB': 1.0}\n",
      "Actual: drugX. Predicted: {'drugX': 1.0}\n",
      "Actual: drugY. Predicted: {'drugY': 1.0}\n",
      "Actual: drugY. Predicted: {'drugY': 1.0}\n",
      "Actual: drugY. Predicted: {'drugY': 1.0}\n",
      "Actual: drugY. Predicted: {'drugY': 1.0}\n",
      "Actual: drugX. Predicted: {'drugX': 1.0}\n",
      "Actual: drugY. Predicted: {'drugY': 1.0}\n",
      "Actual: drugA. Predicted: {'drugA': 1.0}\n",
      "Actual: drugX. Predicted: {'drugX': 1.0}\n",
      "Actual: drugX. Predicted: {'drugX': 1.0}\n",
      "Actual: drugY. Predicted: {'drugY': 1.0}\n",
      "Actual: drugY. Predicted: {'drugY': 1.0}\n",
      "Actual: drugA. Predicted: {'drugA': 1.0}\n",
      "Actual: drugY. Predicted: {'drugY': 1.0}\n",
      "Actual: drugA. Predicted: {'drugA': 1.0}\n",
      "Actual: drugY. Predicted: {'drugY': 1.0}\n",
      "Actual: drugY. Predicted: {'drugY': 1.0}\n",
      "Actual: drugY. Predicted: {'drugY': 1.0}\n",
      "Actual: drugY. Predicted: {'drugY': 1.0}\n",
      "Actual: drugX. Predicted: {'drugX': 1.0}\n",
      "Actual: drugX. Predicted: {'drugX': 1.0}\n",
      "Actual: drugY. Predicted: {'drugY': 1.0}\n",
      "Actual: drugY. Predicted: {'drugY': 1.0}\n",
      "Actual: drugY. Predicted: {'drugY': 1.0}\n",
      "Actual: drugB. Predicted: {'drugB': 1.0}\n",
      "Actual: drugA. Predicted: {'drugA': 1.0}\n",
      "Actual: drugY. Predicted: {'drugY': 1.0}\n",
      "Actual: drugY. Predicted: {'drugY': 1.0}\n",
      "Actual: drugY. Predicted: {'drugY': 1.0}\n",
      "Actual: drugA. Predicted: {'drugA': 1.0}\n",
      "Actual: drugY. Predicted: {'drugY': 1.0}\n",
      "Actual: drugC. Predicted: {'drugC': 1.0}\n",
      "Actual: drugY. Predicted: {'drugY': 1.0}\n",
      "Actual: drugC. Predicted: {'drugC': 1.0}\n",
      "Actual: drugC. Predicted: {'drugC': 1.0}\n",
      "Actual: drugX. Predicted: {'drugX': 1.0}\n",
      "Actual: drugX. Predicted: {'drugX': 1.0}\n"
     ]
    }
   ],
   "metadata": {}
  }
 ],
 "metadata": {
  "orig_nbformat": 4,
  "language_info": {
   "name": "python",
   "version": "3.9.8",
   "mimetype": "text/x-python",
   "codemirror_mode": {
    "name": "ipython",
    "version": 3
   },
   "pygments_lexer": "ipython3",
   "nbconvert_exporter": "python",
   "file_extension": ".py"
  },
  "kernelspec": {
   "name": "python3",
   "display_name": "Python 3.9.8 64-bit (windows store)"
  },
  "interpreter": {
   "hash": "a00b87f3dafb8c5b0afdf77add0e2432ad578e1240a81446720c0c7d6c46e214"
  }
 },
 "nbformat": 4,
 "nbformat_minor": 2
}