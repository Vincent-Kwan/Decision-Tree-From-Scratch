{
 "cells": [
  {
   "cell_type": "markdown",
   "source": [
    "Made by: *Vincent Kwan*"
   ],
   "metadata": {}
  },
  {
   "cell_type": "code",
   "execution_count": 216,
   "source": [
    "#The first row is always the Headers\r\n",
    "#The last column is always the label\r\n",
    "\r\n",
    "training_data = []\r\n",
    "with open('test.txt', 'r') as f:\r\n",
    "    training_data = f.read().splitlines()\r\n",
    "training_data = [x.split(',') for x in training_data]\r\n"
   ],
   "outputs": [],
   "metadata": {}
  },
  {
   "cell_type": "code",
   "execution_count": 217,
   "source": [
    "#print(training_data)\r\n",
    "print(len(training_data))"
   ],
   "outputs": [
    {
     "output_type": "stream",
     "name": "stdout",
     "text": [
      "6\n"
     ]
    }
   ],
   "metadata": {}
  },
  {
   "cell_type": "code",
   "execution_count": 218,
   "source": [
    "headers = training_data[0]"
   ],
   "outputs": [],
   "metadata": {}
  },
  {
   "cell_type": "code",
   "execution_count": 219,
   "source": [
    "def uniques(rows, col):\r\n",
    "    #return unique values for columns - skip the headers\r\n",
    "    return set(row[col] for row in rows[1:])"
   ],
   "outputs": [],
   "metadata": {}
  },
  {
   "cell_type": "code",
   "execution_count": 220,
   "source": [
    "uniques(training_data, 0)"
   ],
   "outputs": [
    {
     "output_type": "execute_result",
     "data": {
      "text/plain": [
       "{'Green', 'Red', 'Yellow'}"
      ]
     },
     "metadata": {},
     "execution_count": 220
    }
   ],
   "metadata": {}
  },
  {
   "cell_type": "code",
   "execution_count": 221,
   "source": [
    "def countlabels(rows):\r\n",
    "    #count the number of labels in a node\r\n",
    "    dict_label = dict()\r\n",
    "    for row in rows:\r\n",
    "        if row[-1] not in dict_label:\r\n",
    "            dict_label[row[-1]] = 0\r\n",
    "        dict_label[row[-1]] += 1\r\n",
    "    return dict_label"
   ],
   "outputs": [],
   "metadata": {}
  },
  {
   "cell_type": "code",
   "execution_count": 222,
   "source": [
    "countlabels(training_data[1:])"
   ],
   "outputs": [
    {
     "output_type": "execute_result",
     "data": {
      "text/plain": [
       "{' Apple': 2, ' Grape': 2, ' Lemon': 1}"
      ]
     },
     "metadata": {},
     "execution_count": 222
    }
   ],
   "metadata": {}
  },
  {
   "cell_type": "code",
   "execution_count": 223,
   "source": [
    "def gini_impurity(rows):\r\n",
    "    #calculate the gini impurity for a node\r\n",
    "    counts = countlabels(rows)\r\n",
    "    total = sum(counts.values())\r\n",
    "    impurity = 1\r\n",
    "    for label in counts:\r\n",
    "        prob = counts[label]/total\r\n",
    "        prob = prob ** 2\r\n",
    "        impurity -= prob\r\n",
    "    return impurity"
   ],
   "outputs": [],
   "metadata": {}
  },
  {
   "cell_type": "code",
   "execution_count": 224,
   "source": [
    "def weighted_impurity(lrow, rrow):\r\n",
    "    #calculate weighted impurity of child nodes\r\n",
    "    ltotal = len(lrow)\r\n",
    "    rtotal = len(rrow)\r\n",
    "    total = ltotal + rtotal\r\n",
    "    w_imp = ((ltotal/total) * gini_impurity(lrow)) + ((rtotal/total) * gini_impurity(rrow))\r\n",
    "    return w_imp"
   ],
   "outputs": [],
   "metadata": {}
  },
  {
   "cell_type": "code",
   "execution_count": 225,
   "source": [
    "#testing if the function works, no mixing:\r\n",
    "test1 = [['Red', 'Color'], ['Yellow', 'Color']]\r\n",
    "gini_impurity(test1)"
   ],
   "outputs": [
    {
     "output_type": "execute_result",
     "data": {
      "text/plain": [
       "0.0"
      ]
     },
     "metadata": {},
     "execution_count": 225
    }
   ],
   "metadata": {}
  },
  {
   "cell_type": "code",
   "execution_count": 226,
   "source": [
    "#some mixing\r\n",
    "test2 = [['Ravioli', 'Food'], ['Paracetamol', 'Medicine'], ['Pug', 'Dog']]\r\n",
    "gini_impurity(test2)"
   ],
   "outputs": [
    {
     "output_type": "execute_result",
     "data": {
      "text/plain": [
       "0.6666666666666665"
      ]
     },
     "metadata": {},
     "execution_count": 226
    }
   ],
   "metadata": {}
  },
  {
   "cell_type": "code",
   "execution_count": 227,
   "source": [
    "class Condition:\r\n",
    "    ''' A condition which is used to divide values into child nodes.'''\r\n",
    "    def __init__(self, col, val):\r\n",
    "        self.value = val\r\n",
    "        self.column = col\r\n",
    "    \r\n",
    "    def is_match(self, row):\r\n",
    "        test_val = row[self.column]\r\n",
    "\r\n",
    "        if isinstance(test_val, float) or isinstance(test_val, int):\r\n",
    "            #if data is of numeric type, then check whether bigger than or equal to\r\n",
    "            return test_val >= self.value\r\n",
    "        else:\r\n",
    "            #otherwise, if data is of character type, then check equality\r\n",
    "            return test_val == self.value\r\n",
    "\r\n",
    "    def __repr__(self):\r\n",
    "        if isinstance(self.value, float) or isinstance(self.value, int):\r\n",
    "            operator = ' >= '\r\n",
    "        else:\r\n",
    "            operator = ' == '\r\n",
    "        \r\n",
    "        return (str(headers[self.column]) + operator + str(self.value))"
   ],
   "outputs": [],
   "metadata": {}
  },
  {
   "cell_type": "code",
   "execution_count": 228,
   "source": [
    "#testing the Condition class\r\n",
    "C = Condition(1, 'Biden')\r\n",
    "trow = ['President', 'Biden']\r\n",
    "C.is_match(trow)"
   ],
   "outputs": [
    {
     "output_type": "execute_result",
     "data": {
      "text/plain": [
       "True"
      ]
     },
     "metadata": {},
     "execution_count": 228
    }
   ],
   "metadata": {}
  },
  {
   "cell_type": "code",
   "execution_count": 229,
   "source": [
    "def partitioner(rows, condition):\r\n",
    "    #Partition the dataset based upon the condition\r\n",
    "    #just like how the british divided India and Pakistan\r\n",
    "    leftrows, rightrows = [], []\r\n",
    "    for row in rows:\r\n",
    "        if condition.is_match(row):\r\n",
    "            rightrows.append(row)\r\n",
    "        else:\r\n",
    "            leftrows.append(row)\r\n",
    "    return leftrows, rightrows"
   ],
   "outputs": [],
   "metadata": {}
  },
  {
   "cell_type": "code",
   "execution_count": 230,
   "source": [
    "#testing \r\n",
    "lr, rr = partitioner(training_data, Condition(0, 'Red'))\r\n",
    "weighted_impurity(lr, rr)"
   ],
   "outputs": [
    {
     "output_type": "execute_result",
     "data": {
      "text/plain": [
       "0.41666666666666663"
      ]
     },
     "metadata": {},
     "execution_count": 230
    }
   ],
   "metadata": {}
  },
  {
   "cell_type": "code",
   "execution_count": 231,
   "source": [
    "lr"
   ],
   "outputs": [
    {
     "output_type": "execute_result",
     "data": {
      "text/plain": [
       "[['Color', ' Diameter', ' Label'],\n",
       " ['Green', ' 3', ' Apple'],\n",
       " ['Yellow', ' 3', ' Apple'],\n",
       " ['Yellow', ' 3', ' Lemon']]"
      ]
     },
     "metadata": {},
     "execution_count": 231
    }
   ],
   "metadata": {}
  },
  {
   "cell_type": "code",
   "execution_count": 232,
   "source": [
    "rr"
   ],
   "outputs": [
    {
     "output_type": "execute_result",
     "data": {
      "text/plain": [
       "[['Red', ' 1', ' Grape'], ['Red', ' 1', ' Grape']]"
      ]
     },
     "metadata": {},
     "execution_count": 232
    }
   ],
   "metadata": {}
  },
  {
   "cell_type": "code",
   "execution_count": 233,
   "source": [
    "lr, rr = partitioner(training_data, Condition(0, 'Green'))\r\n",
    "weighted_impurity(lr, rr)"
   ],
   "outputs": [
    {
     "output_type": "execute_result",
     "data": {
      "text/plain": [
       "0.5999999999999999"
      ]
     },
     "metadata": {},
     "execution_count": 233
    }
   ],
   "metadata": {}
  },
  {
   "cell_type": "code",
   "execution_count": 234,
   "source": [
    "lr"
   ],
   "outputs": [
    {
     "output_type": "execute_result",
     "data": {
      "text/plain": [
       "[['Color', ' Diameter', ' Label'],\n",
       " ['Yellow', ' 3', ' Apple'],\n",
       " ['Red', ' 1', ' Grape'],\n",
       " ['Red', ' 1', ' Grape'],\n",
       " ['Yellow', ' 3', ' Lemon']]"
      ]
     },
     "metadata": {},
     "execution_count": 234
    }
   ],
   "metadata": {}
  },
  {
   "cell_type": "code",
   "execution_count": 235,
   "source": [
    "rr"
   ],
   "outputs": [
    {
     "output_type": "execute_result",
     "data": {
      "text/plain": [
       "[['Green', ' 3', ' Apple']]"
      ]
     },
     "metadata": {},
     "execution_count": 235
    }
   ],
   "metadata": {}
  },
  {
   "cell_type": "code",
   "execution_count": 236,
   "source": [
    "#Test whether partitioner works\r\n",
    "#All rows whose 1st column value is Square should be put in rrows <- true if using source.txt\r\n",
    "lrow, rrow = partitioner(training_data[1:], Condition(0, 'Square'))\r\n",
    "rrow"
   ],
   "outputs": [
    {
     "output_type": "execute_result",
     "data": {
      "text/plain": [
       "[]"
      ]
     },
     "metadata": {},
     "execution_count": 236
    }
   ],
   "metadata": {}
  },
  {
   "cell_type": "code",
   "execution_count": 237,
   "source": [
    "def splitter(rows):\r\n",
    "    '''Finds the best condition to split the dataset on.'''\r\n",
    "    best_con = None\r\n",
    "    bg = 0\r\n",
    "    curr_gini = gini_impurity(rows)\r\n",
    "    \r\n",
    "    for c in range(len(headers) - 1): #ignore the last column since it contains label\r\n",
    "        values = uniques(rows, c)\r\n",
    "\r\n",
    "        for v in values:\r\n",
    "            condition = Condition(c, v)\r\n",
    "            lrows, rrows = partitioner(rows, condition)\r\n",
    "\r\n",
    "            if len(lrows) == 0 or len(rrows) == 0:\r\n",
    "                continue\r\n",
    "            \r\n",
    "            w_imp = weighted_impurity(lrows, rrows)\r\n",
    "\r\n",
    "            info_gain = curr_gini - w_imp\r\n",
    "\r\n",
    "            if info_gain > bg:\r\n",
    "                best_con = condition\r\n",
    "                bg = info_gain\r\n",
    "\r\n",
    "    return bg, best_con"
   ],
   "outputs": [],
   "metadata": {}
  },
  {
   "cell_type": "code",
   "execution_count": 238,
   "source": [
    "#testing info_gain and best condition\r\n",
    "bi, bc = splitter(training_data)\r\n",
    "print(bi, bc)"
   ],
   "outputs": [
    {
     "output_type": "stream",
     "name": "stdout",
     "text": [
      "0.3055555555555556 Color == Red\n"
     ]
    }
   ],
   "metadata": {}
  },
  {
   "cell_type": "code",
   "execution_count": 239,
   "source": [
    "class Node():\r\n",
    "    def __init__(self, rows):\r\n",
    "        self.labels = countlabels(rows)\r\n",
    "        self.dprob = dict()\r\n",
    "\r\n",
    "        self.total = sum(self.labels.values())\r\n",
    "        for label in self.labels.keys():\r\n",
    "            #print(label)\r\n",
    "            self.dprob[label] = self.labels[label]/self.total"
   ],
   "outputs": [],
   "metadata": {}
  },
  {
   "cell_type": "code",
   "execution_count": 240,
   "source": [
    "class LeafNode(Node):\r\n",
    "    def __init__(self, rows):\r\n",
    "        super(LeafNode, self).__init__(rows)\r\n",
    "    \r\n",
    "    def state(self):\r\n",
    "        return 'I am a leaf node.'"
   ],
   "outputs": [],
   "metadata": {}
  },
  {
   "cell_type": "code",
   "execution_count": 241,
   "source": [
    "class InternalNode(Node):\r\n",
    "    def __init__(self, lrows, rrows, cond):\r\n",
    "        self.state = 'I am a branch'\r\n",
    "        self.condition = cond\r\n",
    "        self.lbranch = lrows\r\n",
    "        self.rbranch = rrows\r\n",
    "    \r\n",
    "    def state(self):\r\n",
    "        return 'I am an internal node.'"
   ],
   "outputs": [],
   "metadata": {}
  },
  {
   "cell_type": "code",
   "execution_count": 242,
   "source": [
    "def treebuilder(rows):\r\n",
    "    gain, condition = splitter(rows)\r\n",
    "\r\n",
    "    if gain == 0:\r\n",
    "        return LeafNode(rows)\r\n",
    "\r\n",
    "    lrows, rrows = partitioner(rows, condition)\r\n",
    "\r\n",
    "    lbranch = treebuilder(lrows)\r\n",
    "    rbranch = treebuilder(rrows)\r\n",
    "\r\n",
    "    return InternalNode(lbranch, rbranch, condition)"
   ],
   "outputs": [],
   "metadata": {}
  },
  {
   "cell_type": "code",
   "execution_count": 243,
   "source": [
    "tree = treebuilder(training_data[1:])"
   ],
   "outputs": [],
   "metadata": {}
  },
  {
   "cell_type": "code",
   "execution_count": 244,
   "source": [
    "def print_tree(node, spacing=\"\"):\r\n",
    "\r\n",
    "    if isinstance(node, LeafNode):\r\n",
    "        print (spacing + \"Predict\", node.dprob)\r\n",
    "        return\r\n",
    "\r\n",
    "\r\n",
    "    print (spacing + str(node.condition))\r\n",
    "\r\n",
    "\r\n",
    "    print (spacing + '--> True:')\r\n",
    "    print_tree(node.rbranch, spacing + \"  \")\r\n",
    "\r\n",
    "\r\n",
    "    print (spacing + '--> False:')\r\n",
    "    print_tree(node.lbranch, spacing + \"  \")"
   ],
   "outputs": [],
   "metadata": {}
  },
  {
   "cell_type": "code",
   "execution_count": 256,
   "source": [
    "def print_leaf(counts):\r\n",
    "\r\n",
    "    total = sum(counts.values())\r\n",
    "    probs = {}\r\n",
    "    for lbl in counts.keys():\r\n",
    "        probs[lbl] = counts[lbl]/total\r\n",
    "    return probs"
   ],
   "outputs": [],
   "metadata": {}
  },
  {
   "cell_type": "code",
   "execution_count": 245,
   "source": [
    "print_tree(tree)"
   ],
   "outputs": [
    {
     "output_type": "stream",
     "name": "stdout",
     "text": [
      "Color == Red\n",
      "--> True:\n",
      "  Predict {' Grape': 1.0}\n",
      "--> False:\n",
      "  Color == Yellow\n",
      "  --> True:\n",
      "    Predict {' Apple': 0.5, ' Lemon': 0.5}\n",
      "  --> False:\n",
      "    Predict {' Apple': 1.0}\n"
     ]
    }
   ],
   "metadata": {}
  },
  {
   "cell_type": "code",
   "execution_count": 247,
   "source": [
    "def classifier(row, treenode):\r\n",
    "    '''Returns leaf nodes. Taken from Josh Gordon.'''\r\n",
    "    if isinstance(treenode, LeafNode):\r\n",
    "        return treenode.dprob\r\n",
    "\r\n",
    "    if treenode.condition.is_match(row):\r\n",
    "        return classifier(row, treenode.rbranch)\r\n",
    "    else:\r\n",
    "        return classifier(row, treenode.lbranch)"
   ],
   "outputs": [],
   "metadata": {}
  },
  {
   "cell_type": "code",
   "execution_count": 246,
   "source": [
    "testing_data = [\r\n",
    "    ['Green', 3, 'Apple'],\r\n",
    "    ['Yellow', 4, 'Apple'],\r\n",
    "    ['Red', 2, 'Grape'],\r\n",
    "    ['Red', 1, 'Grape'],\r\n",
    "    ['Yellow', 3, 'Lemon'],\r\n",
    "]"
   ],
   "outputs": [],
   "metadata": {}
  },
  {
   "cell_type": "code",
   "execution_count": 257,
   "source": [
    "for row in testing_data:\r\n",
    "    print(\"Actual: {0}. Predicted: {1}\".format(row[-1], print_leaf(classifier(row, tree))))"
   ],
   "outputs": [
    {
     "output_type": "stream",
     "name": "stdout",
     "text": [
      "Actual: Apple. Predicted: {' Apple': 1.0}\n",
      "Actual: Apple. Predicted: {' Apple': 0.5, ' Lemon': 0.5}\n",
      "Actual: Grape. Predicted: {' Grape': 1.0}\n",
      "Actual: Grape. Predicted: {' Grape': 1.0}\n",
      "Actual: Lemon. Predicted: {' Apple': 0.5, ' Lemon': 0.5}\n"
     ]
    }
   ],
   "metadata": {}
  }
 ],
 "metadata": {
  "orig_nbformat": 4,
  "language_info": {
   "name": "python",
   "version": "3.9.8",
   "mimetype": "text/x-python",
   "codemirror_mode": {
    "name": "ipython",
    "version": 3
   },
   "pygments_lexer": "ipython3",
   "nbconvert_exporter": "python",
   "file_extension": ".py"
  },
  "kernelspec": {
   "name": "python3",
   "display_name": "Python 3.9.8 64-bit (windows store)"
  },
  "interpreter": {
   "hash": "a00b87f3dafb8c5b0afdf77add0e2432ad578e1240a81446720c0c7d6c46e214"
  }
 },
 "nbformat": 4,
 "nbformat_minor": 2
}