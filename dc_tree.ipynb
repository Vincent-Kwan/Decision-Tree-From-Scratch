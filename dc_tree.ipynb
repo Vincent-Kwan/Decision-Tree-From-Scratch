{
 "cells": [
  {
   "cell_type": "code",
   "execution_count": 54,
   "source": [
    "#Loading data from drug200.csv\r\n",
    "#The last column is always the label\r\n",
    "#The first row is always the Headers\r\n",
    "\r\n",
    "training_data = []\r\n",
    "with open('drug200.csv', 'r') as f:\r\n",
    "    training_data = f.read().splitlines()\r\n",
    "training_data = [x.split(',') for x in training_data]\r\n",
    "#print(training_data)"
   ],
   "outputs": [],
   "metadata": {}
  },
  {
   "cell_type": "code",
   "execution_count": 55,
   "source": [
    "len(training_data)"
   ],
   "outputs": [
    {
     "output_type": "execute_result",
     "data": {
      "text/plain": [
       "201"
      ]
     },
     "metadata": {},
     "execution_count": 55
    }
   ],
   "metadata": {}
  },
  {
   "cell_type": "code",
   "execution_count": 52,
   "source": [
    "headers = training_data[0]\r\n",
    "headers"
   ],
   "outputs": [
    {
     "output_type": "execute_result",
     "data": {
      "text/plain": [
       "['Age', 'Sex', 'BP', 'Cholesterol', 'Na_to_K', 'Drug']"
      ]
     },
     "metadata": {},
     "execution_count": 52
    }
   ],
   "metadata": {}
  }
 ],
 "metadata": {
  "orig_nbformat": 4,
  "language_info": {
   "name": "python",
   "version": "3.9.8",
   "mimetype": "text/x-python",
   "codemirror_mode": {
    "name": "ipython",
    "version": 3
   },
   "pygments_lexer": "ipython3",
   "nbconvert_exporter": "python",
   "file_extension": ".py"
  },
  "kernelspec": {
   "name": "python3",
   "display_name": "Python 3.9.8 64-bit (windows store)"
  },
  "interpreter": {
   "hash": "a00b87f3dafb8c5b0afdf77add0e2432ad578e1240a81446720c0c7d6c46e214"
  }
 },
 "nbformat": 4,
 "nbformat_minor": 2
}